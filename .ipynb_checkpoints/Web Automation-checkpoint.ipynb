{
 "cells": [
  {
   "cell_type": "markdown",
   "id": "d9bd23e9",
   "metadata": {},
   "source": [
    "Busca preços no Google Shopping e Buscapé"
   ]
  },
  {
   "cell_type": "code",
   "execution_count": 1,
   "id": "b28ffdca",
   "metadata": {},
   "outputs": [
    {
     "data": {
      "text/html": [
       "<div>\n",
       "<style scoped>\n",
       "    .dataframe tbody tr th:only-of-type {\n",
       "        vertical-align: middle;\n",
       "    }\n",
       "\n",
       "    .dataframe tbody tr th {\n",
       "        vertical-align: top;\n",
       "    }\n",
       "\n",
       "    .dataframe thead th {\n",
       "        text-align: right;\n",
       "    }\n",
       "</style>\n",
       "<table border=\"1\" class=\"dataframe\">\n",
       "  <thead>\n",
       "    <tr style=\"text-align: right;\">\n",
       "      <th></th>\n",
       "      <th>Nome</th>\n",
       "      <th>Termos banidos</th>\n",
       "      <th>Preço mínimo</th>\n",
       "      <th>Preço máximo</th>\n",
       "    </tr>\n",
       "  </thead>\n",
       "  <tbody>\n",
       "    <tr>\n",
       "      <th>0</th>\n",
       "      <td>iphone 12 64 gb</td>\n",
       "      <td>mini watch</td>\n",
       "      <td>3000</td>\n",
       "      <td>3500</td>\n",
       "    </tr>\n",
       "    <tr>\n",
       "      <th>1</th>\n",
       "      <td>rtx 3060</td>\n",
       "      <td>zota galax</td>\n",
       "      <td>4000</td>\n",
       "      <td>4500</td>\n",
       "    </tr>\n",
       "  </tbody>\n",
       "</table>\n",
       "</div>"
      ],
      "text/plain": [
       "              Nome Termos banidos  Preço mínimo  Preço máximo\n",
       "0  iphone 12 64 gb     mini watch          3000          3500\n",
       "1         rtx 3060     zota galax          4000          4500"
      ]
     },
     "metadata": {},
     "output_type": "display_data"
    }
   ],
   "source": [
    "#criar um navegador\n",
    "from selenium import webdriver\n",
    "from selenium.webdriver.common.keys import Keys\n",
    "from selenium.webdriver.common.by import By\n",
    "import pandas as pd\n",
    "import time\n",
    "\n",
    "nav = webdriver.Chrome()\n",
    "\n",
    "#importar/visualizar a base de dados\n",
    "tabela_produtos = pd.read_excel(\"buscas.xlsx\")\n",
    "display(tabela_produtos)"
   ]
  },
  {
   "cell_type": "markdown",
   "id": "290ba9b6",
   "metadata": {},
   "source": [
    "Define a função de busca Google Shopping e Buscapé"
   ]
  },
  {
   "cell_type": "code",
   "execution_count": 8,
   "id": "16515a7f",
   "metadata": {},
   "outputs": [],
   "source": [
    "def busca_google_shopping(nav, produto, termos_banidos, preco_minimo, preco_maximo):\n",
    "\n",
    "    #entrar no google\n",
    "    nav.get(\"https://www.google.com\")\n",
    "\n",
    "    #tratar os valores da tabela\n",
    "    produto = produto.lower()\n",
    "    termos_banidos = termos_banidos.lower()\n",
    "    lista_termos_banidos = termos_banidos.split(\" \")\n",
    "    lista_termos_produto = produto.split(\" \")\n",
    "    preco_minimo = float(preco_minimo)\n",
    "    preco_maximo = float(preco_maximo)\n",
    "    \n",
    "    #Pesquisar o nome do produto\n",
    "    nav.find_element(By.XPATH, '/html/body/div[1]/div[3]/form/div[1]/div[1]/div[1]/div/div[2]/input').send_keys(produto)\n",
    "    nav.find_element(By.XPATH, '/html/body/div[1]/div[3]/form/div[1]/div[1]/div[1]/div/div[2]/input').send_keys(Keys.ENTER)\n",
    "\n",
    "    #clicar na barra Shopping\n",
    "    elementos = nav.find_elements(By.CLASS_NAME, 'hdtb-mitem')\n",
    "    for item in elementos:\n",
    "        if \"Shopping\" in item.text:\n",
    "            item.click()\n",
    "            break\n",
    "            \n",
    "    #pegar a lista de resultados da busca no google shopping\n",
    "    lista_resultados = nav.find_elements(By.CLASS_NAME, 'sh-dgr__content')\n",
    "    \n",
    "    #para cada resultado, verifica se corresponde a todas as condições\n",
    "    \n",
    "    lista_ofertas = [] #lista de resposta\n",
    "\n",
    "    for result in lista_resultados:\n",
    "        nome = result.find_element(By.CLASS_NAME, 'Xjkr3b').text\n",
    "        nome = nome.lower()\n",
    "\n",
    "        #verifica se há algum termo banido\n",
    "        tem_termos_banidos = False\n",
    "        for palavra in lista_termos_banidos:\n",
    "            if palavra in nome:\n",
    "                tem_termos_banidos = True\n",
    "                \n",
    "        #verifica se o nome está de acordo\n",
    "        tem_todos_termos_produto = True\n",
    "        for palavra in lista_termos_produto:\n",
    "            if palavra not in nome:\n",
    "                tem_todos_termos_produto = False\n",
    "                \n",
    "        \n",
    "        if not tem_termos_banidos and tem_todos_termos_produto: #verifica os nomes\n",
    "            preco = result.find_element(By.CLASS_NAME, 'a8Pemb').text\n",
    "            preco = preco.replace(\"R$\", \"\").replace(\" \", \"\").replace(\".\", \"\").replace(\",\", \".\")\n",
    "            preco = float(preco)\n",
    "\n",
    "            if preco_minimo <= preco <= preco_maximo: #verifica se o preço está de acordo           \n",
    "                elemento_link = result.find_element(By.CLASS_NAME, 'aULzUe')\n",
    "                elemento_pai = elemento_link.find_element(By.XPATH, '..')\n",
    "                link = elemento_pai.get_attribute('href')\n",
    "                lista_ofertas.append((nome, preco, link))\n",
    "    return lista_ofertas\n",
    "        \n",
    "def busca_buscape(nav, produto, termos_banidos, preco_minimo, preco_maximo):\n",
    "    \n",
    "    #entrar no buscape\n",
    "    nav.get(\"https://www.buscape.com.br/\")\n",
    "    \n",
    "    #tratar valores\n",
    "    produto = produto.lower()\n",
    "    termos_banidos = termos_banidos.lower()\n",
    "    lista_termos_banidos = termos_banidos.split(\" \")\n",
    "    lista_termos_produto = produto.split(\" \")\n",
    "    preco_minimo = float(preco_minimo)\n",
    "    preco_maximo = float(preco_maximo)\n",
    "    \n",
    "    #insere a busca\n",
    "    time.sleep(5)\n",
    "    nav.find_element(By.CLASS_NAME, 'search-bar__text-box').send_keys(produto, Keys.ENTER)\n",
    "    \n",
    "      \n",
    "    lista_resultados = nav.find_elements(By.CLASS_NAME, 'Cell_Content__1630r')\n",
    "    \n",
    "    for resultado in lista_resultados:\n",
    "        try:\n",
    "            preco = resultado.find_element(By.CLASS_NAME, 'CellPrice_MainValue__3s0iP').text\n",
    "            nome = resultado.get_attribute('title')\n",
    "            link = resultado.get_attribute('href')\n",
    "            \n",
    "            \n",
    "        except:\n",
    "            pass      \n",
    "    \n",
    "\n",
    "\n",
    "    #procurar esse produto no buscapé\n",
    "        #verificar se algum dos produtos do buscapé está entro da minha faixa de preço"
   ]
  },
  {
   "cell_type": "markdown",
   "id": "a4246fe0",
   "metadata": {},
   "source": [
    "Continuação do Código: Define as variáveis e executa a busca"
   ]
  },
  {
   "cell_type": "code",
   "execution_count": 7,
   "id": "cbdcaa88",
   "metadata": {},
   "outputs": [
    {
     "ename": "AttributeError",
     "evalue": "'list' object has no attribute 'send_keys'",
     "output_type": "error",
     "traceback": [
      "\u001b[1;31m---------------------------------------------------------------------------\u001b[0m",
      "\u001b[1;31mAttributeError\u001b[0m                            Traceback (most recent call last)",
      "\u001b[1;32mC:\\Users\\FERNAN~1.SCH\\AppData\\Local\\Temp/ipykernel_14356/3293166175.py\u001b[0m in \u001b[0;36m<module>\u001b[1;34m\u001b[0m\n\u001b[0;32m      4\u001b[0m \u001b[0mpreco_maximo\u001b[0m \u001b[1;33m=\u001b[0m \u001b[1;36m4400\u001b[0m\u001b[1;33m\u001b[0m\u001b[1;33m\u001b[0m\u001b[0m\n\u001b[0;32m      5\u001b[0m \u001b[1;33m\u001b[0m\u001b[0m\n\u001b[1;32m----> 6\u001b[1;33m \u001b[0mbusca_buscape\u001b[0m\u001b[1;33m(\u001b[0m\u001b[0mnav\u001b[0m\u001b[1;33m,\u001b[0m \u001b[0mproduto\u001b[0m\u001b[1;33m,\u001b[0m \u001b[0mtermos_banidos\u001b[0m\u001b[1;33m,\u001b[0m \u001b[0mpreco_minimo\u001b[0m\u001b[1;33m,\u001b[0m \u001b[0mpreco_maximo\u001b[0m\u001b[1;33m)\u001b[0m\u001b[1;33m\u001b[0m\u001b[1;33m\u001b[0m\u001b[0m\n\u001b[0m",
      "\u001b[1;32mC:\\Users\\FERNAN~1.SCH\\AppData\\Local\\Temp/ipykernel_14356/3905128658.py\u001b[0m in \u001b[0;36mbusca_buscape\u001b[1;34m(nav, produto, termos_banidos, preco_minimo, preco_maximo)\u001b[0m\n\u001b[0;32m     74\u001b[0m     \u001b[1;31m#insere a busca\u001b[0m\u001b[1;33m\u001b[0m\u001b[1;33m\u001b[0m\u001b[0m\n\u001b[0;32m     75\u001b[0m     \u001b[0mtime\u001b[0m\u001b[1;33m.\u001b[0m\u001b[0msleep\u001b[0m\u001b[1;33m(\u001b[0m\u001b[1;36m5\u001b[0m\u001b[1;33m)\u001b[0m\u001b[1;33m\u001b[0m\u001b[1;33m\u001b[0m\u001b[0m\n\u001b[1;32m---> 76\u001b[1;33m     \u001b[0mnav\u001b[0m\u001b[1;33m.\u001b[0m\u001b[0mfind_elements\u001b[0m\u001b[1;33m(\u001b[0m\u001b[0mBy\u001b[0m\u001b[1;33m.\u001b[0m\u001b[0mCLASS_NAME\u001b[0m\u001b[1;33m,\u001b[0m \u001b[1;34m'search-bar__text-box'\u001b[0m\u001b[1;33m)\u001b[0m\u001b[1;33m.\u001b[0m\u001b[0msend_keys\u001b[0m\u001b[1;33m(\u001b[0m\u001b[0mproduto\u001b[0m\u001b[1;33m,\u001b[0m \u001b[0mKeys\u001b[0m\u001b[1;33m.\u001b[0m\u001b[0mENTER\u001b[0m\u001b[1;33m)\u001b[0m\u001b[1;33m\u001b[0m\u001b[1;33m\u001b[0m\u001b[0m\n\u001b[0m\u001b[0;32m     77\u001b[0m \u001b[1;33m\u001b[0m\u001b[0m\n\u001b[0;32m     78\u001b[0m \u001b[1;33m\u001b[0m\u001b[0m\n",
      "\u001b[1;31mAttributeError\u001b[0m: 'list' object has no attribute 'send_keys'"
     ]
    }
   ],
   "source": [
    "produto = 'iphone 12 64gb'\n",
    "termos_banidos = 'mini watch'\n",
    "preco_minimo = 3000\n",
    "preco_maximo = 4400\n",
    "\n",
    "busca_buscape(nav, produto, termos_banidos, preco_minimo, preco_maximo)"
   ]
  },
  {
   "cell_type": "code",
   "execution_count": null,
   "id": "75c1066f",
   "metadata": {},
   "outputs": [],
   "source": []
  }
 ],
 "metadata": {
  "kernelspec": {
   "display_name": "Python 3 (ipykernel)",
   "language": "python",
   "name": "python3"
  },
  "language_info": {
   "codemirror_mode": {
    "name": "ipython",
    "version": 3
   },
   "file_extension": ".py",
   "mimetype": "text/x-python",
   "name": "python",
   "nbconvert_exporter": "python",
   "pygments_lexer": "ipython3",
   "version": "3.9.7"
  }
 },
 "nbformat": 4,
 "nbformat_minor": 5
}
